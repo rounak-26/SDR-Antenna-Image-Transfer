{
 "cells": [
  {
   "cell_type": "code",
   "execution_count": null,
   "id": "d44dcded-a873-413e-b979-cf20753860bc",
   "metadata": {
    "scrolled": true
   },
   "outputs": [],
   "source": [
    "# Importing libraries needed for image processing, handling data, and plotting\n",
    "import cv2  # for image processing\n",
    "import pandas as pd  # to work with excel and csv files\n",
    "import numpy as np  # to handle arrays\n",
    "from PIL import Image as im  # to create image\n",
    "import matplotlib.pyplot as plt  # For plotting graphs\n",
    "from skimage.metrics import structural_similarity as ssim  # For comparing images using SSIM\n",
    "import os  # for file operations\n",
    "import csv # Used to save values in a CSV file\n",
    "\n",
    "# reading the image in grayscale mode (2 stands for grayscale)\n",
    "img = cv2.imread(r\"C:\\Users\\Rounak Deb\\Downloads\\Final_Jupyter_project_10th_may\\Image_1.jpg\", 2)\n",
    "\n",
    "img  # just checking the image matrix\n"
   ]
  },
  {
   "cell_type": "code",
   "execution_count": null,
   "id": "b9d3055c-c779-4390-8a32-ea40de356fb3",
   "metadata": {},
   "outputs": [],
   "source": [
    "# applying binary thresholding to the image\n",
    "bwimg = cv2.threshold(img, 127, 255, cv2.THRESH_BINARY)\n",
    "\n",
    "bwimg  # checking threshold output\n",
    "\n",
    "# showing the binary image using OpenCV\n",
    "cv2.imshow('Binary', bwimg[1])\n",
    "cv2.waitKey(0)  # waits for any key press\n",
    "cv2.destroyAllWindows()  # closes all OpenCV windows\n"
   ]
  },
  {
   "cell_type": "code",
   "execution_count": null,
   "id": "223ffcaa-9bb5-4841-8a5e-2b069101e78f",
   "metadata": {},
   "outputs": [],
   "source": [
    "bwimg[1].shape  # checking the shape of the thresholded (binary) image\n"
   ]
  },
  {
   "cell_type": "code",
   "execution_count": null,
   "id": "e2728f63-d4de-4664-bd59-1ea3e67b18ce",
   "metadata": {},
   "outputs": [],
   "source": [
    "a = []  # this will store pixel values in 1D\n",
    "\n",
    "# storing only the first 100 rows into a\n",
    "for i in range(100):\n",
    "    a.extend(bwimg[1][i])  # flattening row-wise\n",
    "\n",
    "a  # checking the list\n"
   ]
  },
  {
   "cell_type": "code",
   "execution_count": null,
   "id": "9ef1ae12-4fd0-49f8-8259-db4d767276be",
   "metadata": {},
   "outputs": [],
   "source": [
    "len(a)  # checking total number of elements\n",
    "\n",
    "# converting all white pixels (255) to 1\n",
    "for i in range(len(a)):\n",
    "    if a[i] == 255:\n",
    "        a[i] = 1\n",
    "\n",
    "a  # verifying the modified list\n"
   ]
  },
  {
   "cell_type": "code",
   "execution_count": null,
   "id": "e2ca706d-94cb-42df-a029-f573b46e2e85",
   "metadata": {},
   "outputs": [],
   "source": [
    "bitstream = pd.DataFrame(a)  # converting the list into a DataFrame\n",
    "\n",
    "bitstream  # checking the data\n",
    "\n",
    "bitstream.shape  # checking rows and columns\n"
   ]
  },
  {
   "cell_type": "code",
   "execution_count": null,
   "id": "fe779be3-28cc-4a12-8873-c535f7a844b4",
   "metadata": {},
   "outputs": [],
   "source": [
    "# creating a folder to save csv and excel\n",
    "os.makedirs(\"tx_rx_csv_files\", exist_ok=True)\n",
    "\n",
    "# saving the bitstream in excel and csv formats\n",
    "bitstream.to_excel(\"tx_rx_csv_files/transmit1.xlsx\", index=False, header=False)\n",
    "bitstream.to_csv(\"tx_rx_csv_files/transmit1.csv\", index=False, header=False)"
   ]
  },
  {
   "cell_type": "code",
   "execution_count": null,
   "id": "821e1d81-1b39-4fca-8eb4-3f367275a3b5",
   "metadata": {},
   "outputs": [],
   "source": [
    "import pandas as pd\n",
    "\n",
    "# Load the CSV without header\n",
    "dataframe = pd.read_csv(\"outputs_tx_rx/received.csv\", header=None)\n",
    "\n",
    "# Access the first column (integer index, not string)\n",
    "x = dataframe[0].tolist()\n",
    "\n",
    "# Optionally insert a zero at the start\n",
    "x.insert(0, 0)\n",
    "\n",
    "print(x[:10])  # Print first 10 values to check\n"
   ]
  },
  {
   "cell_type": "code",
   "execution_count": null,
   "id": "5b2244be-5f28-4cd2-831e-4ac205062345",
   "metadata": {},
   "outputs": [],
   "source": [
    "# converting all 1s to 225 to reconstruct image\n",
    "for i in range(len(x)):\n",
    "    if x[i] == 1:\n",
    "        x[i] = 225\n",
    "\n",
    "a_arr1 = []  # will store pixels\n",
    "\n",
    "# storing first 10000 values only\n",
    "for i in range(10000):\n",
    "    a_arr1.append(x[i])\n"
   ]
  },
  {
   "cell_type": "code",
   "execution_count": null,
   "id": "082c2223-8909-4863-ad82-c93c37fde522",
   "metadata": {},
   "outputs": [],
   "source": [
    "a_arr = np.array(a_arr1)  # converting list to array\n",
    "a_arr.resize(100, 100)  # resizing into 100x100 image\n",
    "\n",
    "a_arr.shape  # checking shape\n",
    "\n",
    "x  # checking received list again\n",
    "\n",
    "a_arr  # checking image array\n"
   ]
  },
  {
   "cell_type": "code",
   "execution_count": null,
   "id": "0f63ddf0-5d50-425a-8cab-5817bbe67336",
   "metadata": {},
   "outputs": [],
   "source": [
    "# Convert array to uint8 format if not already\n",
    "image_array = np.uint8(a_arr)\n",
    "\n",
    "# Show image in a separate popup window using OpenCV\n",
    "cv2.imshow(\"Reconstructed Image\", image_array)\n",
    "\n",
    "# Wait for any key to be pressed\n",
    "cv2.waitKey(0)\n",
    "\n",
    "# Close all OpenCV windows\n",
    "cv2.destroyAllWindows()\n"
   ]
  },
  {
   "cell_type": "code",
   "execution_count": null,
   "id": "c1ddc1ed-d1d9-4f68-a9a0-e99814b01b6d",
   "metadata": {},
   "outputs": [],
   "source": [
    "# create folder to save images\n",
    "os.makedirs(\"outputs_tx_rx\", exist_ok=True)\n",
    "\n",
    "# converting both TX and RX to proper image format\n",
    "tx_image = im.fromarray(bwimg[1])  # original transmitting image\n",
    "rx_image = im.fromarray(a_arr.astype(np.uint8))  # received image\n",
    "\n",
    "# saving both images\n",
    "tx_image.save(\"outputs_tx_rx/transmitting_image.jpg\")\n",
    "rx_image.save(\"outputs_tx_rx/receiving_image.jpg\")\n"
   ]
  },
  {
   "cell_type": "code",
   "execution_count": null,
   "id": "3926b4d4-0349-403a-aa96-259d80e9a8a1",
   "metadata": {
    "scrolled": true
   },
   "outputs": [],
   "source": [
    "# create new blank image of double width\n",
    "combined = im.new('L', (tx_image.width + rx_image.width, tx_image.height))\n",
    "\n",
    "# paste both images side-by-side\n",
    "combined.paste(tx_image, (0, 0))\n",
    "combined.paste(rx_image, (tx_image.width, 0))\n",
    "\n",
    "# save comparison image\n",
    "combined.save(\"outputs_tx_rx/tx_rx_comparison_image.jpg\")\n",
    "\n",
    "# show in notebook\n",
    "display(combined)\n"
   ]
  },
  {
   "cell_type": "code",
   "execution_count": null,
   "id": "f8cd159f-0b4d-4d11-ad8e-2317b5cc9a90",
   "metadata": {},
   "outputs": [],
   "source": [
    "# Using the transmitting image (TX) as it is since it is already in grayscale\n",
    "tx_image_gray = np.array(tx_image)\n",
    "\n",
    "# Using the receiving image (RX) as it is since it is also grayscale\n",
    "rx_image_gray = a_arr  # RX image is already in the required format\n",
    "\n",
    "# Convert both images to uint8 to avoid any data type issues while calculating pixel differences\n",
    "tx_image_gray = np.uint8(tx_image_gray)\n",
    "rx_image_gray = np.uint8(rx_image_gray)\n",
    "\n",
    "# Calculate Pearson's Correlation Coefficient\n",
    "correlation_coefficient = np.corrcoef(tx_image_gray.flatten(), rx_image_gray.flatten())[0, 1]\n",
    "print(f\"Pearson Correlation Coefficient: {correlation_coefficient}\")\n",
    "\n",
    "# Calculate RMSE (Root Mean Squared Error)\n",
    "rmse_value = np.sqrt(np.sum((tx_image_gray - rx_image_gray) ** 2) / tx_image_gray.size)\n",
    "print(f\"RMSE: {rmse_value}\")\n",
    "\n",
    "# Calculate PSNR (Peak Signal-to-Noise Ratio)\n",
    "max_pixel_value = 255.0  # Maximum pixel value for uint8 images\n",
    "psnr_value = 20 * np.log10(max_pixel_value / rmse_value)\n",
    "print(f\"PSNR: {psnr_value} dB\")\n",
    "\n",
    "# Calculate Normalized Cross-Correlation (NCC)\n",
    "norm_tx = tx_image_gray.flatten() - np.mean(tx_image_gray)\n",
    "norm_rx = rx_image_gray.flatten() - np.mean(rx_image_gray)\n",
    "ncc_value = np.sum(norm_tx * norm_rx) / np.sqrt(np.sum(norm_tx**2) * np.sum(norm_rx**2))\n",
    "print(f\"Normalized Cross-Correlation (NCC): {ncc_value}\")\n",
    "\n",
    "# Calculate SSIM (Structural Similarity Index)\n",
    "ssim_value, _ = ssim(tx_image_gray, rx_image_gray, full=True)\n",
    "print(f\"SSIM: {ssim_value}\")\n"
   ]
  },
  {
   "cell_type": "code",
   "execution_count": null,
   "id": "320900c6-aac4-4811-a2bb-2da709ced20d",
   "metadata": {},
   "outputs": [],
   "source": [
    "# Flatten the grayscale images\n",
    "tx_flat = tx_image_gray.flatten()\n",
    "rx_flat = rx_image_gray.flatten()\n",
    "\n",
    "# Linear fit: RX = m × TX + c\n",
    "m, c = np.polyfit(tx_flat, rx_flat, 1)\n",
    "\n",
    "# Create the figure\n",
    "plt.figure(figsize=(8, 6), dpi=300)  # High DPI for clear export\n",
    "\n",
    "# Scatter plot of RX vs TX\n",
    "plt.scatter(tx_flat, rx_flat, s=1, alpha=0.3, color='blue', label='Pixel Data (RX vs TX)')\n",
    "\n",
    "# Best-fit line\n",
    "plt.plot(tx_flat, m * tx_flat + c, color='red', linewidth=2, label=f'Fit: RX = {m:.2f} × TX + {c:.2f}')\n",
    "\n",
    "# Labels and Title\n",
    "plt.xlabel('Transmitted Pixel Intensity (TX)', fontsize=12)\n",
    "plt.ylabel('Received Pixel Intensity (RX)', fontsize=12)\n",
    "plt.title('Linear Relationship Between Transmitted and Received Images', fontsize=14)\n",
    "\n",
    "# Grid and legend\n",
    "plt.grid(True, linestyle='--', alpha=0.5)\n",
    "plt.legend(fontsize=10)\n",
    "\n",
    "# Save the figure\n",
    "plt.tight_layout()\n",
    "plt.savefig('outputs_tx_rx/linear_fit_rx_vs_tx_presentable.jpg')\n",
    "plt.show()\n"
   ]
  },
  {
   "cell_type": "code",
   "execution_count": null,
   "id": "22bb5ae6-2b52-4fcc-85e9-86b812a6b736",
   "metadata": {},
   "outputs": [],
   "source": [
    "# Save all metrics and linear fit values to a CSV\n",
    "comparison_data = {\n",
    "    'Pearson Correlation Coefficient': [correlation_coefficient],\n",
    "    'RMSE': [rmse_value],\n",
    "    'PSNR (dB)': [psnr_value],\n",
    "    'Normalized Cross-Correlation (NCC)': [ncc_value],\n",
    "    'SSIM': [ssim_value],\n",
    "    'Linear Fit Slope (m)': [m],\n",
    "    'Linear Fit Intercept (c)': [c]\n",
    "}\n",
    "\n",
    "# Create a DataFrame\n",
    "comparison_df = pd.DataFrame(comparison_data)\n",
    "\n",
    "# Save to CSV in output folder\n",
    "comparison_df.to_csv(\"outputs_tx_rx/comparison_parameters.csv\", index=False)\n"
   ]
  },
  {
   "cell_type": "code",
   "execution_count": null,
   "id": "636de91c-7477-48aa-b113-72e4241e4dbf",
   "metadata": {},
   "outputs": [],
   "source": [
    "# Convert image pixel values to range between 0 and 1\n",
    "tx_normalized = tx_image_gray / 255.0\n",
    "rx_normalized = rx_image_gray / 255.0\n",
    "\n",
    "# Make the 2D images into 1D lists\n",
    "tx_flat_normalized = tx_normalized.flatten()\n",
    "rx_flat_normalized = rx_normalized.flatten()\n",
    "\n",
    "# Find average pixel values\n",
    "mean_tx_intensity = np.mean(tx_flat_normalized)\n",
    "mean_rx_intensity = np.mean(rx_flat_normalized)\n",
    "\n",
    "# Fit a line: RX = m × TX + c\n",
    "m_normalized, c_normalized = np.polyfit(tx_flat_normalized, rx_flat_normalized, 1)\n",
    "\n",
    "# Draw the scatter points and the fitted line\n",
    "plt.figure(figsize=(8, 6), dpi=300)\n",
    "plt.scatter(tx_flat_normalized, rx_flat_normalized, s=1, alpha=0.3, color='blue', label='Pixel Data')\n",
    "plt.plot(tx_flat_normalized, m_normalized * tx_flat_normalized + c_normalized, color='red', linewidth=2,\n",
    "         label=f'Line: RX = {m_normalized:.2f} × TX + {c_normalized:.2f}')\n",
    "\n",
    "# Add labels and title\n",
    "plt.xlabel('TX Pixel (Normalized)')\n",
    "plt.ylabel('RX Pixel (Normalized)')\n",
    "plt.title('TX vs RX Pixel Comparison')\n",
    "plt.grid(True)\n",
    "plt.legend()\n",
    "plt.tight_layout()\n",
    "\n",
    "# Save the graph\n",
    "plt.savefig('outputs_tx_rx/normalized_intensity_comparison.jpg')\n",
    "plt.show()\n",
    "\n",
    "# Save slope, intercept, and averages in a CSV file\n",
    "with open('outputs_tx_rx/parameters.csv', mode='w', newline='') as file:\n",
    "    writer = csv.writer(file)\n",
    "    writer.writerow([\"Parameter\", \"Value\"])\n",
    "    writer.writerow([\"Slope (m)\", f\"{m_normalized:.4f}\"])\n",
    "    writer.writerow([\"Intercept (c)\", f\"{c_normalized:.4f}\"])\n",
    "    writer.writerow([\"Mean TX\", f\"{mean_tx_intensity:.4f}\"])\n",
    "    writer.writerow([\"Mean RX\", f\"{mean_rx_intensity:.4f}\"])\n"
   ]
  },
  {
   "cell_type": "code",
   "execution_count": null,
   "id": "64e5bfbb-9fd1-4c5a-886d-0bd3da3d385c",
   "metadata": {},
   "outputs": [],
   "source": []
  },
  {
   "cell_type": "code",
   "execution_count": null,
   "id": "af1a2b5c-508a-4e2b-8f2a-824142a27d87",
   "metadata": {},
   "outputs": [],
   "source": []
  },
  {
   "cell_type": "code",
   "execution_count": null,
   "id": "13e15c52-58a1-4ba4-8888-8ed223a176c5",
   "metadata": {},
   "outputs": [],
   "source": []
  },
  {
   "cell_type": "code",
   "execution_count": null,
   "id": "6b494af7-6ba7-4c80-8151-d19c93246194",
   "metadata": {},
   "outputs": [],
   "source": []
  },
  {
   "cell_type": "code",
   "execution_count": null,
   "id": "6746d1e5-b497-41e0-a410-e06f76e0bd84",
   "metadata": {},
   "outputs": [],
   "source": []
  }
 ],
 "metadata": {
  "kernelspec": {
   "display_name": "Python [conda env:base] *",
   "language": "python",
   "name": "conda-base-py"
  },
  "language_info": {
   "codemirror_mode": {
    "name": "ipython",
    "version": 3
   },
   "file_extension": ".py",
   "mimetype": "text/x-python",
   "name": "python",
   "nbconvert_exporter": "python",
   "pygments_lexer": "ipython3",
   "version": "3.12.7"
  }
 },
 "nbformat": 4,
 "nbformat_minor": 5
}
